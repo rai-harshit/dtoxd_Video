{
 "cells": [
  {
   "cell_type": "code",
   "execution_count": 1,
   "metadata": {},
   "outputs": [],
   "source": [
    "import vlc"
   ]
  },
  {
   "cell_type": "code",
   "execution_count": 2,
   "metadata": {},
   "outputs": [],
   "source": [
    "i=vlc.Instance('--fullscreen')"
   ]
  },
  {
   "cell_type": "code",
   "execution_count": 3,
   "metadata": {},
   "outputs": [
    {
     "data": {
      "text/plain": [
       "<bound method Instance.get_log_verbosity of <vlc.Instance object at 0x7f2f40a10358>>"
      ]
     },
     "execution_count": 3,
     "metadata": {},
     "output_type": "execute_result"
    }
   ],
   "source": [
    "i.get_log_verbosity"
   ]
  },
  {
   "cell_type": "code",
   "execution_count": 4,
   "metadata": {},
   "outputs": [],
   "source": [
    "p=i.media_player_new()"
   ]
  },
  {
   "cell_type": "code",
   "execution_count": 5,
   "metadata": {},
   "outputs": [],
   "source": [
    "m=i.media_new('/home/g_host/Desktop/ecc/test.mp4')"
   ]
  },
  {
   "cell_type": "code",
   "execution_count": 6,
   "metadata": {},
   "outputs": [
    {
     "data": {
      "text/plain": [
       "'file:///home/g_host/Desktop/ecc/test.mp4'"
      ]
     },
     "execution_count": 6,
     "metadata": {},
     "output_type": "execute_result"
    }
   ],
   "source": [
    "m.get_mrl()"
   ]
  },
  {
   "cell_type": "code",
   "execution_count": 7,
   "metadata": {},
   "outputs": [],
   "source": [
    "p.set_media(m)"
   ]
  },
  {
   "cell_type": "code",
   "execution_count": null,
   "metadata": {},
   "outputs": [],
   "source": [
    "# p.stop()"
   ]
  },
  {
   "cell_type": "code",
   "execution_count": null,
   "metadata": {},
   "outputs": [],
   "source": [
    "# p.play()"
   ]
  },
  {
   "cell_type": "code",
   "execution_count": null,
   "metadata": {},
   "outputs": [],
   "source": [
    "# p.pause()"
   ]
  },
  {
   "cell_type": "code",
   "execution_count": null,
   "metadata": {},
   "outputs": [],
   "source": [
    "# p.get_fps()"
   ]
  },
  {
   "cell_type": "code",
   "execution_count": null,
   "metadata": {},
   "outputs": [],
   "source": [
    "# p.audio_get_volume()"
   ]
  },
  {
   "cell_type": "code",
   "execution_count": null,
   "metadata": {},
   "outputs": [],
   "source": [
    "# p.audio_set_volume(100)"
   ]
  },
  {
   "cell_type": "code",
   "execution_count": null,
   "metadata": {},
   "outputs": [],
   "source": [
    "# p.get_position()"
   ]
  },
  {
   "cell_type": "code",
   "execution_count": null,
   "metadata": {},
   "outputs": [],
   "source": [
    "# p.set_position(0.5)"
   ]
  },
  {
   "cell_type": "code",
   "execution_count": null,
   "metadata": {
    "scrolled": true
   },
   "outputs": [],
   "source": [
    "# p.video_get_size()"
   ]
  },
  {
   "cell_type": "code",
   "execution_count": null,
   "metadata": {},
   "outputs": [],
   "source": [
    "# p.video_set_logo_string(1,\"/home/g_host/Desktop/python-libvlc-bindings/hd_hod.jpg\")"
   ]
  },
  {
   "cell_type": "code",
   "execution_count": null,
   "metadata": {},
   "outputs": [],
   "source": [
    "# p.video_set_logo_string(vlc.VideoLogoOption.logo_x,\"10\")\n",
    "# p.video_set_logo_string(vlc.VideoLogoOption.logo_y,\"20\")\n",
    "# p.video_set_logo_string(vlc.VideoLogoOption.logo_repeat,\"200\")\n",
    "# p.video_set_logo_int(vlc.VideoLogoOption.logo_opacity,999)\n",
    "# p.video_set_logo_int(vlc.VideoLogoOption.logo_enable,0)"
   ]
  },
  {
   "cell_type": "code",
   "execution_count": null,
   "metadata": {},
   "outputs": [],
   "source": [
    "# p.get_time()"
   ]
  },
  {
   "cell_type": "code",
   "execution_count": null,
   "metadata": {},
   "outputs": [],
   "source": [
    "# str(p.get_state())"
   ]
  },
  {
   "cell_type": "code",
   "execution_count": null,
   "metadata": {},
   "outputs": [],
   "source": [
    "# type(p.get_length())"
   ]
  },
  {
   "cell_type": "code",
   "execution_count": null,
   "metadata": {},
   "outputs": [],
   "source": [
    "# p.video_get_track_count()"
   ]
  },
  {
   "cell_type": "code",
   "execution_count": null,
   "metadata": {},
   "outputs": [],
   "source": [
    "# arr = [(10,18),(30,38),(50,55)]"
   ]
  },
  {
   "cell_type": "code",
   "execution_count": null,
   "metadata": {},
   "outputs": [],
   "source": [
    "# arr"
   ]
  },
  {
   "cell_type": "code",
   "execution_count": null,
   "metadata": {},
   "outputs": [],
   "source": [
    "# for mem in arr:\n",
    "#     print(mem[0],mem[1])"
   ]
  },
  {
   "cell_type": "code",
   "execution_count": 8,
   "metadata": {},
   "outputs": [
    {
     "name": "stdout",
     "output_type": "stream",
     "text": [
      "[(10, 19)]\n"
     ]
    }
   ],
   "source": [
    "# pred = [11,12,14,15,16,17,18,25,26,27,28,35,36,37,38,41,42,43,50,51,52,53,54,61,62,63,64,66,68]\n",
    "pred = [11,12,14,15,16,17,18]\n",
    "blur_timestamp = []\n",
    "start = pred[0]-1\n",
    "itr_count = len(pred)\n",
    "for i in range(1,itr_count):\n",
    "    if pred[i]-pred[i-1] <= 2:        \n",
    "        pass\n",
    "    else :\n",
    "        blur_timestamp.append((start,pred[i-1]+1))\n",
    "        start = pred[i]-1\n",
    "    if i == itr_count-1:\n",
    "        blur_timestamp.append((start,pred[i]+1))\n",
    "print(blur_timestamp)\n",
    "# import queue\n",
    "# btp_q = queue.Queue()\n",
    "# for i in blur_timestamp:\n",
    "#     btp_q.put(i)\n",
    "# print(btp_q.get()[0]*1000)"
   ]
  },
  {
   "cell_type": "code",
   "execution_count": 9,
   "metadata": {},
   "outputs": [],
   "source": [
    "# size = p.video_get_size()\n",
    "p.video_set_logo_string(1,\"/home/g_host/Desktop/python-libvlc-bindings/hd_hod.jpg\")"
   ]
  },
  {
   "cell_type": "code",
   "execution_count": 19,
   "metadata": {},
   "outputs": [],
   "source": [
    "p.play()\n",
    "i = 0\n",
    "len_btsp = len(blur_timestamp)\n",
    "while str(p.get_state()) != 'State.Ended':\n",
    "    curr_tsp = p.get_time()\n",
    "    if (curr_tsp>blur_timestamp[i][0]*1000 and curr_tsp<blur_timestamp[i][1]*1000):\n",
    "#         p.video_set_logo_string(vlc.VideoLogoOption.logo_x,\"0\")\n",
    "#         p.video_set_logo_string(vlc.VideoLogoOption.logo_y,\"0\")\n",
    "#         p.video_set_logo_string(vlc.VideoLogoOption.logo_repeat,\"1\")\n",
    "        p.video_set_logo_int(vlc.VideoLogoOption.logo_opacity,300)\n",
    "        p.video_set_logo_int(vlc.VideoLogoOption.logo_enable,1)\n",
    "        p.audio_set_mute(True)\n",
    "    else:\n",
    "        p.video_set_logo_int(vlc.VideoLogoOption.logo_enable,0)\n",
    "        p.audio_set_mute(False)\n",
    "    if curr_tsp > blur_timestamp[i][1]*1000 and i<len_btsp-1:\n",
    "        i+=1\n",
    "p.stop()"
   ]
  },
  {
   "cell_type": "code",
   "execution_count": null,
   "metadata": {},
   "outputs": [],
   "source": []
  }
 ],
 "metadata": {
  "kernelspec": {
   "display_name": "Python 3",
   "language": "python",
   "name": "python3"
  },
  "language_info": {
   "codemirror_mode": {
    "name": "ipython",
    "version": 3
   },
   "file_extension": ".py",
   "mimetype": "text/x-python",
   "name": "python",
   "nbconvert_exporter": "python",
   "pygments_lexer": "ipython3",
   "version": "3.6.8"
  }
 },
 "nbformat": 4,
 "nbformat_minor": 2
}
